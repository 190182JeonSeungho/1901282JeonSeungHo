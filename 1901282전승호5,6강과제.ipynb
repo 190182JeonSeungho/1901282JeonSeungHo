{
  "nbformat": 4,
  "nbformat_minor": 0,
  "metadata": {
    "colab": {
      "provenance": [],
      "collapsed_sections": [],
      "authorship_tag": "ABX9TyPMnMR6kYXa9n7mLtABzVbD",
      "include_colab_link": true
    },
    "kernelspec": {
      "name": "python3",
      "display_name": "Python 3"
    },
    "language_info": {
      "name": "python"
    }
  },
  "cells": [
    {
      "cell_type": "markdown",
      "metadata": {
        "id": "view-in-github",
        "colab_type": "text"
      },
      "source": [
        "<a href=\"https://colab.research.google.com/github/190182JeonSeungho/1901282JeonSeungHo/blob/main/1901282%EC%A0%84%EC%8A%B9%ED%98%B85%2C6%EA%B0%95%EA%B3%BC%EC%A0%9C.ipynb\" target=\"_parent\"><img src=\"https://colab.research.google.com/assets/colab-badge.svg\" alt=\"Open In Colab\"/></a>"
      ]
    },
    {
      "cell_type": "code",
      "execution_count": null,
      "metadata": {
        "id": "seMxVZARgNpE"
      },
      "outputs": [],
      "source": [
        "data = {'age': [23, 43, 12, 45], 'name': ['민준', '현우', '서연', '동현'], 'height':[175.3, 180.3, 165.8, 172.7]}\n",
        "x = pd.DataFrame(data, columns = ['name', 'age', 'geight'])\n",
        "x"
      ]
    },
    {
      "cell_type": "code",
      "source": [
        "x.loc[4]=['광현', 32, 176]"
      ],
      "metadata": {
        "id": "rzaeq9VciCMg"
      },
      "execution_count": null,
      "outputs": []
    },
    {
      "cell_type": "code",
      "source": [
        "y = pd.DataFrame({'age': [33], 'name': ['철수'], 'height': 180. }, columns=['age', 'name', 'height'])\n",
        "y"
      ],
      "metadata": {
        "id": "d7pJbjUwiPXY"
      },
      "execution_count": null,
      "outputs": []
    },
    {
      "cell_type": "code",
      "source": [
        "result = x.append(y)"
      ],
      "metadata": {
        "id": "u-wnXAAxi5oB"
      },
      "execution_count": null,
      "outputs": []
    },
    {
      "cell_type": "code",
      "source": [
        "result=x.append(y, ignore_index=Ture)\n",
        "result"
      ],
      "metadata": {
        "id": "-v9C16Z-i_h4"
      },
      "execution_count": null,
      "outputs": []
    },
    {
      "cell_type": "code",
      "source": [
        "x = x.append(y, ignore_index=True)\n",
        "x"
      ],
      "metadata": {
        "id": "gRCtFExVjP3f"
      },
      "execution_count": null,
      "outputs": []
    },
    {
      "cell_type": "code",
      "source": [
        "result = pd.concat([x,y], ignore_index=True)\n",
        "result"
      ],
      "metadata": {
        "id": "JNsetXEVjZYw"
      },
      "execution_count": null,
      "outputs": []
    },
    {
      "cell_type": "code",
      "source": [
        "df=pd.DataFrame(np.random.random(5,5))\n",
        "df.columns=['A', 'B', 'C', 'D', 'E']\n",
        "df.iloc[1,1]=np.nan\n",
        "df.iloc[2,2]=np.nan\n",
        "df"
      ],
      "metadata": {
        "id": "SPKexS-jjkPX"
      },
      "execution_count": null,
      "outputs": []
    },
    {
      "cell_type": "code",
      "source": [
        "df.isnull()"
      ],
      "metadata": {
        "id": "y4grQvRwkDoo"
      },
      "execution_count": null,
      "outputs": []
    },
    {
      "cell_type": "code",
      "source": [
        "df['A'].isnull()"
      ],
      "metadata": {
        "id": "jWX-uEibkIl4"
      },
      "execution_count": null,
      "outputs": []
    },
    {
      "cell_type": "code",
      "source": [
        "df['B'].isnull()"
      ],
      "metadata": {
        "id": "8t95JcGBkPew"
      },
      "execution_count": null,
      "outputs": []
    },
    {
      "cell_type": "code",
      "source": [
        "df['C'].isnull()"
      ],
      "metadata": {
        "id": "lpEwDOt_kQgQ"
      },
      "execution_count": null,
      "outputs": []
    },
    {
      "cell_type": "code",
      "source": [
        "df.isnull().sum()"
      ],
      "metadata": {
        "id": "ANpkaaRSkRrn"
      },
      "execution_count": null,
      "outputs": []
    },
    {
      "cell_type": "code",
      "source": [
        "df['B'].isnull().sum()"
      ],
      "metadata": {
        "id": "0AT-DbtMkbeQ"
      },
      "execution_count": null,
      "outputs": []
    },
    {
      "cell_type": "code",
      "source": [
        "df.dropna"
      ],
      "metadata": {
        "id": "ddD3RIfwkepI"
      },
      "execution_count": null,
      "outputs": []
    },
    {
      "cell_type": "code",
      "source": [
        "df.dropna(inplace=True)\n",
        "df"
      ],
      "metadata": {
        "id": "lNm8Du3hkkwI"
      },
      "execution_count": null,
      "outputs": []
    },
    {
      "cell_type": "code",
      "source": [
        "df.dropna(subset=['B'], axis=0, inplace=True)\n",
        "df"
      ],
      "metadata": {
        "id": "fiomI74Zk2bA"
      },
      "execution_count": null,
      "outputs": []
    },
    {
      "cell_type": "code",
      "source": [
        "df.dropna(axis=1, inplace=True)\n",
        "df"
      ],
      "metadata": {
        "id": "XAr953mzlOdq"
      },
      "execution_count": null,
      "outputs": []
    },
    {
      "cell_type": "code",
      "source": [
        "df.dropna(axis=[0,1], inplace=True)\n",
        "df"
      ],
      "metadata": {
        "id": "wGz9BHGylV_A"
      },
      "execution_count": null,
      "outputs": []
    },
    {
      "cell_type": "code",
      "source": [
        "robot = [[24, 23680], [35, np.nan], [46, 47350], [27,np.nan]]\n",
        "data = pd.DataFrame(robots, columns=['max_spped', 'price'])"
      ],
      "metadata": {
        "id": "bE7lffqAlogA"
      },
      "execution_count": null,
      "outputs": []
    },
    {
      "cell_type": "code",
      "source": [
        "data.replace(np.nan, 0, inplace=True)\n",
        "data"
      ],
      "metadata": {
        "id": "wwyRvMRmlcSw"
      },
      "execution_count": null,
      "outputs": []
    },
    {
      "cell_type": "code",
      "source": [
        "mean = data['price'].mean()\n",
        "data.replace(np.nan, mean, inplace=True)\n",
        "data"
      ],
      "metadata": {
        "id": "CFr06cTumGAw"
      },
      "execution_count": null,
      "outputs": []
    },
    {
      "cell_type": "code",
      "source": [
        "mean = data['price'].mean()\n",
        "data.replace(np.nan, mean)\n",
        "data"
      ],
      "metadata": {
        "id": "s5-zQ-BHmzny"
      },
      "execution_count": null,
      "outputs": []
    },
    {
      "cell_type": "code",
      "source": [
        "iris = sns.load_dataset(\"iris\")\n",
        "iris.head()"
      ],
      "metadata": {
        "id": "EwzjLuVxnA_p"
      },
      "execution_count": null,
      "outputs": []
    },
    {
      "cell_type": "code",
      "source": [
        "vals = iris['sepal_length'].values\n",
        "sns.kdeplot(vals)\n",
        "plt.title(\"kdeplot for sepal length\")\n",
        "plt.show()"
      ],
      "metadata": {
        "id": "UoKxkmrNnNzI"
      },
      "execution_count": null,
      "outputs": []
    },
    {
      "cell_type": "code",
      "source": [
        "vals = iris['petal_length'].values\n",
        "sns.kdeplot(vals)\n",
        "plt.title(\"kdeplot for petal length\")\n",
        "plt.show()"
      ],
      "metadata": {
        "id": "3TNOUqfwnnMf"
      },
      "execution_count": null,
      "outputs": []
    },
    {
      "cell_type": "code",
      "source": [
        "vals = iris['petal_length'].values\n",
        "sns.displot(vals, kde=True, rug=True)\n",
        "plt.title(\"displot for petal length\")\n",
        "plt.show()"
      ],
      "metadata": {
        "id": "FCow9UMXn5tH"
      },
      "execution_count": null,
      "outputs": []
    },
    {
      "cell_type": "code",
      "source": [
        "sns.displot(vals, kde=True, rug=True)\n",
        "plt.title(\"displot for petal length\")\n",
        "plt.show()"
      ],
      "metadata": {
        "id": "8LrO2Y9RoKDg"
      },
      "execution_count": null,
      "outputs": []
    },
    {
      "cell_type": "code",
      "source": [
        "sns.histplot(vals, kde=True, rug=True)\n",
        "plt.title(\"histplot for petal length\")\n",
        "plt.show()"
      ],
      "metadata": {
        "id": "Wx0pRcxcofhA"
      },
      "execution_count": null,
      "outputs": []
    },
    {
      "cell_type": "code",
      "source": [
        "sns.countplot(x=\"adult_male\", data=titanic)\n",
        "plt.show"
      ],
      "metadata": {
        "id": "v01KL_6Xopa_"
      },
      "execution_count": null,
      "outputs": []
    },
    {
      "cell_type": "code",
      "source": [
        "tips = sns.load_dataset(\"tips\")   #팁 데이터\n",
        "tips.head()"
      ],
      "metadata": {
        "id": "BibA8ANjpHOj"
      },
      "execution_count": null,
      "outputs": []
    },
    {
      "cell_type": "code",
      "source": [
        "sns.countplot(x=\"day\", data=tips)\n",
        "plt.show()"
      ],
      "metadata": {
        "id": "OSPJTcjLpXuu"
      },
      "execution_count": null,
      "outputs": []
    },
    {
      "cell_type": "code",
      "source": [
        "sns.joinplot1(x='sepal_length', y='sepal_width', data=iris, kind='scattter')\n",
        "plt.show()"
      ],
      "metadata": {
        "id": "OkecsT9EpkGh"
      },
      "execution_count": null,
      "outputs": []
    },
    {
      "cell_type": "code",
      "source": [
        "sns.joinplot(x='sepal_length', y='sepal_width', data=iris, hue='species', kind='kind')\n",
        "plt.show"
      ],
      "metadata": {
        "id": "Tdt4QGWpp2WA"
      },
      "execution_count": null,
      "outputs": []
    },
    {
      "cell_type": "code",
      "source": [
        "sns.pairplot(iris)\n",
        "plt.show()"
      ],
      "metadata": {
        "id": "OBQuwYl1qQgi"
      },
      "execution_count": null,
      "outputs": []
    },
    {
      "cell_type": "code",
      "source": [
        "sns.pairplot(iris, hue='species', markers=['o', 's', 'd'])\n",
        "plt.show()"
      ],
      "metadata": {
        "id": "dTPTesS9qWb4"
      },
      "execution_count": null,
      "outputs": []
    },
    {
      "cell_type": "code",
      "source": [
        "titanic_size = titanic,pivot_table(index=\"class\", columns=\"sex\", aggfunc=\"size\")\n",
        "titanic_size"
      ],
      "metadata": {
        "id": "5dXHt8acqxUx"
      },
      "execution_count": null,
      "outputs": []
    },
    {
      "cell_type": "code",
      "source": [
        "sns.heatmap(titanic_size)\n",
        "plt.title(\"Heatmap\")\n",
        "plt.show()"
      ],
      "metadata": {
        "id": "RL_QCbejrKmI"
      },
      "execution_count": null,
      "outputs": []
    },
    {
      "cell_type": "code",
      "source": [
        "sns.heatmap(titanic_size, annot=True)\n",
        "plt.title(\"Heatmap\")\n",
        "plt.show()"
      ],
      "metadata": {
        "id": "d1M4wJ3hrTgp"
      },
      "execution_count": null,
      "outputs": []
    },
    {
      "cell_type": "code",
      "source": [
        "sns.heatmap(titanic_size, annot=True, fmt='d')\n",
        "plt.title(\"Heatmap\")\n",
        "plt.show()"
      ],
      "metadata": {
        "id": "uEhgThF_rdWA"
      },
      "execution_count": null,
      "outputs": []
    },
    {
      "cell_type": "code",
      "source": [
        "sns.heatmap(titanic_size, cmap=sns.color_palette(\"PuBu\"), annot=True, fmt='d')\n",
        "plt.title(\"Heatmap\")\n",
        "plt.show()"
      ],
      "metadata": {
        "id": "aQecTqBWrjmR"
      },
      "execution_count": null,
      "outputs": []
    },
    {
      "cell_type": "code",
      "source": [
        "sns.barplot(x=\"day\", y=\"total_bill\", data=tips)\n",
        "plt.title(\"Tips on each day\")\n",
        "plt.show()"
      ],
      "metadata": {
        "id": "O3O_ucoTrx0p"
      },
      "execution_count": null,
      "outputs": []
    },
    {
      "cell_type": "code",
      "source": [
        "sns.barplot(x=\"totalbill\", y=\"day\", data=tips)\n",
        "plt.title(\"Tips on each day\")\n",
        "plt.show()"
      ],
      "metadata": {
        "id": "SNU3_4E6sE0B"
      },
      "execution_count": null,
      "outputs": []
    },
    {
      "cell_type": "code",
      "source": [
        "sns.striplot(x='day', y='total_bill', data= tips, jitter=True)\n",
        "plt.title('Tips on each day')\n",
        "plt.show()"
      ],
      "metadata": {
        "id": "VJcNop1bsLWA"
      },
      "execution_count": null,
      "outputs": []
    },
    {
      "cell_type": "code",
      "source": [
        "sns.striplot(x='day', y='total_bill', data= tips, jitter=False)\n",
        "plt.title('Tips on each day')\n",
        "plt.show()"
      ],
      "metadata": {
        "id": "e4Iiq9QXsi0Y"
      },
      "execution_count": null,
      "outputs": []
    },
    {
      "cell_type": "code",
      "source": [
        "sns.swarmplot(x=\"day\", y=\"total_bill\", data=tips)\n",
        "plt.title(\"Tips on each day\")\n",
        "plt.show()"
      ],
      "metadata": {
        "id": "FobjMQqqsshg"
      },
      "execution_count": null,
      "outputs": []
    },
    {
      "cell_type": "code",
      "source": [
        "sns.violinplot(x=\"day\", y=\"total_bill\", data=tips)\n",
        "plt.title(\"Tips on each day\")\n",
        "plt.show()"
      ],
      "metadata": {
        "id": "8deVL5DZs22X"
      },
      "execution_count": null,
      "outputs": []
    },
    {
      "cell_type": "code",
      "source": [
        "sns.barplot(x=\"day\", y=\"totalbill\", hue='sex', data=tips)\n",
        "plt.title(\"Tips on each day with hue=sex\")\n",
        "plt.show()"
      ],
      "metadata": {
        "id": "JmnpF151s-Tn"
      },
      "execution_count": null,
      "outputs": []
    },
    {
      "cell_type": "code",
      "source": [
        "sns.barplot(x=\"day\", y=\"total_bill\", hue='time', data=tips)\n",
        "plt.title(\"Tips on each day with hue=time\")\n",
        "plt.show()"
      ],
      "metadata": {
        "id": "UhDCtmpTtLfw"
      },
      "execution_count": null,
      "outputs": []
    },
    {
      "cell_type": "code",
      "source": [
        "sns.stripplot(x=\"day\", y=\"total_bill\", hue='tsex', data=tips)\n",
        "plt.title(\"Tips on each day with hue=time\")\n",
        "plt.show()"
      ],
      "metadata": {
        "id": "yn2C4FsMuUUo"
      },
      "execution_count": null,
      "outputs": []
    },
    {
      "cell_type": "code",
      "source": [
        "sns.swarmplot(x=\"day\", y=\"total_bill\", hue='sex', data=tips)\n",
        "plt.title(\"Tips on each day with hue=sex\")\n",
        "plt.show()"
      ],
      "metadata": {
        "id": "SI3hkAdctQ4l"
      },
      "execution_count": null,
      "outputs": []
    },
    {
      "cell_type": "code",
      "source": [
        "sns.violinplot(x=\"day\", y=\"total_bill\", hue='sex', data=tips)\n",
        "plt.title(\"Tips on each day with hue=sex\")\n",
        "plt.show()"
      ],
      "metadata": {
        "id": "VkJzgFfutbaQ"
      },
      "execution_count": null,
      "outputs": []
    },
    {
      "cell_type": "code",
      "source": [
        "sns.violinplot(x=\"day\", y=\"total_bill\", hue='sex', data=tips, split=True)\n",
        "plt.title(\"Tips on each day with hue=sex and split=True\")\n",
        "plt.show()"
      ],
      "metadata": {
        "id": "0gDEuDxmtgWg"
      },
      "execution_count": null,
      "outputs": []
    },
    {
      "cell_type": "code",
      "source": [
        "sns.stripplot(x=\"day\", y=\"total_bill\", hue='sex', data=tips, dodge=True)\n",
        "plt.title(\"Tips on each day with hue=sex and dodge=true\")\n",
        "plt.show()"
      ],
      "metadata": {
        "id": "9DvVAAEnuq8a"
      },
      "execution_count": null,
      "outputs": []
    },
    {
      "cell_type": "code",
      "source": [
        "sns.swarmplot(x=\"day\", y=\"total_bill\", hue='sex', data=tips, dodge=True)\n",
        "plt.title(\"Tips on each day with hue=sex and dodge=true\")\n",
        "plt.show()"
      ],
      "metadata": {
        "id": "_Rs2p7_vvLcA"
      },
      "execution_count": null,
      "outputs": []
    },
    {
      "cell_type": "code",
      "source": [
        "sns.catplot(x=\"age\", y=\"sex\", hue=\"survived\", row=\"class\", data=titanic,\n",
        "            kind=\"violin\", split=True, height=2, aspect=4)\n",
        "plt.title(\"Catplot of titanic with hue=survived\")\n",
        "plt.show()"
      ],
      "metadata": {
        "id": "6ZKvkkO6vbGg"
      },
      "execution_count": null,
      "outputs": []
    },
    {
      "cell_type": "code",
      "source": [
        "plt.title(\"violonplot and swarmplot\")\n",
        "sns.violinplot(x='day', y='total_bill', data=tips)\n",
        "sns.swarmplot(x='day', y='total_bill', data=tips, color='0.9')\n",
        "plt.show()"
      ],
      "metadata": {
        "id": "TIr7AfNRwFCR"
      },
      "execution_count": null,
      "outputs": []
    },
    {
      "cell_type": "code",
      "source": [
        "titanic.describe()"
      ],
      "metadata": {
        "id": "fw2_R0NywsQ6"
      },
      "execution_count": null,
      "outputs": []
    },
    {
      "cell_type": "code",
      "source": [
        "df_traim.shape"
      ],
      "metadata": {
        "id": "C2ljKZQexfog"
      },
      "execution_count": null,
      "outputs": []
    },
    {
      "cell_type": "code",
      "source": [
        "df_test.shape"
      ],
      "metadata": {
        "id": "ffXW484hxjeB"
      },
      "execution_count": null,
      "outputs": []
    },
    {
      "cell_type": "code",
      "source": [
        "df_train['Age'].isnull().sum()"
      ],
      "metadata": {
        "id": "i1Onb_oOxnn5"
      },
      "execution_count": null,
      "outputs": []
    },
    {
      "cell_type": "code",
      "source": [
        "100*df_train['Age'].isnull().sun()/df_train[df_train.cilumns].shape[0]"
      ],
      "metadata": {
        "id": "jGt9z-BQxxro"
      },
      "execution_count": null,
      "outputs": []
    },
    {
      "cell_type": "code",
      "source": [
        "for col in df_train.coulmns:\n",
        "  msg = '{:>10} : \\t percentage of NaN: {:.2f}%'.format(col, 100*(df_train[col].isnull().sum() / df_train[col].shape[0]))\n",
        "print(msg)"
      ],
      "metadata": {
        "id": "MBzDIlUtyJcY"
      },
      "execution_count": null,
      "outputs": []
    },
    {
      "cell_type": "code",
      "source": [
        "msno.matrix(df=df_train, figsize=(6,6))\n",
        "plt.show()"
      ],
      "metadata": {
        "id": "-aUbNFjrzQBq"
      },
      "execution_count": null,
      "outputs": []
    },
    {
      "cell_type": "code",
      "source": [
        "msno.bar(df=df_train, figsize=(6,6))\n",
        "plt.show()"
      ],
      "metadata": {
        "id": "2jx_rLrIzfX7"
      },
      "execution_count": null,
      "outputs": []
    },
    {
      "cell_type": "code",
      "source": [
        "df_train['Survived'] .value_counts()"
      ],
      "metadata": {
        "id": "USxggedjzkQh"
      },
      "execution_count": null,
      "outputs": []
    },
    {
      "cell_type": "code",
      "source": [
        "df_train['Survived'] .value_counts().plot.bar()"
      ],
      "metadata": {
        "id": "pwI82sNnzx7I"
      },
      "execution_count": null,
      "outputs": []
    },
    {
      "cell_type": "code",
      "source": [
        "df_train['Survived'].value_counts().plot.pie(explode=[0,0.1])\n",
        "plt.show()"
      ],
      "metadata": {
        "id": "w53ueaFM0CfR"
      },
      "execution_count": null,
      "outputs": []
    },
    {
      "cell_type": "code",
      "source": [
        "sns.countplot(x='Survived', data_train)\n",
        "plt.show()"
      ],
      "metadata": {
        "id": "kurTzN9z0R_n"
      },
      "execution_count": null,
      "outputs": []
    },
    {
      "cell_type": "code",
      "source": [
        "df_train[['Pclass', 'Survived']]"
      ],
      "metadata": {
        "id": "wY_RhNWp0bf_"
      },
      "execution_count": null,
      "outputs": []
    },
    {
      "cell_type": "code",
      "source": [
        "df_train[['Pclass', 'Survived']] .groupby(['Pclass'], as_index=True).count()"
      ],
      "metadata": {
        "id": "9MmYU8MC0lko"
      },
      "execution_count": null,
      "outputs": []
    },
    {
      "cell_type": "code",
      "source": [
        "df_train[['Pclass', 'Survived']] .groupby(['Pclass'], as_index=True).mean()"
      ],
      "metadata": {
        "id": "crbZ8OVw01jg"
      },
      "execution_count": null,
      "outputs": []
    },
    {
      "cell_type": "code",
      "source": [
        "df_train[['Pclass', 'Survived']] .groupby(['Pclass'], as_index=True).mean().sort_values"
      ],
      "metadata": {
        "id": "BJ4KkvYu0972"
      },
      "execution_count": null,
      "outputs": []
    },
    {
      "cell_type": "code",
      "source": [
        "df_train[['Pclass', 'Survived']] .groupby(['Pclass'], as_index=True).mean().sort_values(by='Survived')"
      ],
      "metadata": {
        "id": "Akctpkgc1Fe6"
      },
      "execution_count": null,
      "outputs": []
    },
    {
      "cell_type": "code",
      "source": [
        "df_train[['Pclass', 'Survived']] .groupby(['Pclass'], as_index=True).mean().sort_values(by='Survived', ascend=False)"
      ],
      "metadata": {
        "id": "EtvGOvRi1Omo"
      },
      "execution_count": null,
      "outputs": []
    },
    {
      "cell_type": "code",
      "source": [
        "df_train[['Pclass', 'Survived']] .groupby(['Pclass']).sum()"
      ],
      "metadata": {
        "id": "rAv4N7fL1U53"
      },
      "execution_count": null,
      "outputs": []
    },
    {
      "cell_type": "code",
      "source": [
        "pd.crosstab(df_train['Pclass'], df_train['Survived'])"
      ],
      "metadata": {
        "id": "W68BUppe1nHK"
      },
      "execution_count": null,
      "outputs": []
    },
    {
      "cell_type": "code",
      "source": [
        "pd.crosstab(df_train['Pclass'], df_train['Survived'], margins=True)"
      ],
      "metadata": {
        "id": "Y98dQCdl1x8S"
      },
      "execution_count": null,
      "outputs": []
    },
    {
      "cell_type": "code",
      "source": [
        "pd.crosstab(df_train['Pclass'], df_train['Survived'], margins=True).style.background_gredient(cmap='cool')"
      ],
      "metadata": {
        "id": "XBXqCQow1484"
      },
      "execution_count": null,
      "outputs": []
    },
    {
      "cell_type": "code",
      "source": [
        "pd.crosstab(df_train['Pclass'], df_train['Survived'], margins=True).mean().sort_values(by='Survived', ascending=False)"
      ],
      "metadata": {
        "id": "98nDIQHX2FlJ"
      },
      "execution_count": null,
      "outputs": []
    },
    {
      "cell_type": "code",
      "source": [
        "pd.crosstab(df_train['Pclass'], df_train['Survived'], margins=True).mean().sort_values(by='Survived', ascending=False).plot()"
      ],
      "metadata": {
        "id": "hlA-UshA2eDI"
      },
      "execution_count": null,
      "outputs": []
    },
    {
      "cell_type": "code",
      "source": [
        "pd.crosstab(df_train['Pclass'], df_train['Survived'], margins=True).mean().sort_values(by='Survived', ascending=False).plot()\n",
        "plt_show()"
      ],
      "metadata": {
        "id": "AxWAJRAC2hXQ"
      },
      "execution_count": null,
      "outputs": []
    },
    {
      "cell_type": "code",
      "source": [
        "df_train['Pclass'].value_counts().plot.bar()\n",
        "plt.show()"
      ],
      "metadata": {
        "id": "_eeurQb72kKV"
      },
      "execution_count": null,
      "outputs": []
    },
    {
      "cell_type": "code",
      "source": [
        "sns.countplot(x='Pclass', hue='Survived', data=df_train)\n",
        "plt.show()"
      ],
      "metadata": {
        "id": "gQJCpKnY20GR"
      },
      "execution_count": null,
      "outputs": []
    },
    {
      "cell_type": "code",
      "source": [
        "sns.set(font_scale=2.5)"
      ],
      "metadata": {
        "id": "qkH6q7R33BEI"
      },
      "execution_count": null,
      "outputs": []
    },
    {
      "cell_type": "code",
      "source": [
        "f, ax = plt.subplot(1,2, figsize=(16,8))\n",
        "df_frain['Pclass'].value_counts().plot.bar(ax=ax[0])\n",
        "sns.countplot(x='Pclass', hue='Survived', data=df_train, ax=ax[1])\n",
        "plt.show()"
      ],
      "metadata": {
        "id": "t0EQJ-de3KxI"
      },
      "execution_count": null,
      "outputs": []
    },
    {
      "cell_type": "code",
      "source": [
        "f, ax = plt.subplot(1,2, figsize=(16,8))\n",
        "df_frain['Pclass'].value_counts().plot.bar(ax=ax[0])\n",
        "ax[0].set_title('Number of Passengers')\n",
        "sns.countplot(x='Pclass', hue='Survived', data=df_train, ax=ax[1])\n",
        "ax[1].set_title('Number of Survived vs dead')\n",
        "plt.show()"
      ],
      "metadata": {
        "id": "77tIFyk83ycY"
      },
      "execution_count": null,
      "outputs": []
    }
  ]
}