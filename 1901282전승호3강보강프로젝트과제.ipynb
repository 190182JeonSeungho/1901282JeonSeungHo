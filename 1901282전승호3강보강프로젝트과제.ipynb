{
  "cells": [
    {
      "cell_type": "markdown",
      "metadata": {
        "id": "view-in-github",
        "colab_type": "text"
      },
      "source": [
        "<a href=\"https://colab.research.google.com/github/190182JeonSeungho/1901282JeonSeungHo/blob/main/1901282%EC%A0%84%EC%8A%B9%ED%98%B83%EA%B0%95%EB%B3%B4%EA%B0%95%ED%94%84%EB%A1%9C%EC%A0%9D%ED%8A%B8%EA%B3%BC%EC%A0%9C.ipynb\" target=\"_parent\"><img src=\"https://colab.research.google.com/assets/colab-badge.svg\" alt=\"Open In Colab\"/></a>"
      ]
    },
    {
      "cell_type": "code",
      "source": [
        "class text_static:\n",
        "  def processLine(self, line, wordCounts):\n",
        "    line = self.replacePunctuations(line)\n",
        "    words = line.split()\n",
        "    for word in words:\n",
        "      if word in wordCounts:\n",
        "        wordCounts[word] += 1\n",
        "      else:\n",
        "        wordCounts[word] = 1\n",
        "  def replacePunctuations(self, line):\n",
        "    for ch in line:\n",
        "      if ch in \".,;:\":\n",
        "        line = line.replace(ch,\" \")\n",
        "\n",
        "        return line\n",
        "  def wordCount(self, filename):\n",
        "    f = open(\"/content/I_have_a_dream.txt\",\"r\")\n",
        "    lines = f.readlines()\n",
        "    wordCounts = {}\n",
        "    for line in lines:\n",
        "      self.processLine(line.lower(), wordCounts)\n",
        "      return wordCounts\n",
        "        \n",
        "  def arrange_pairs(self, wordCounts):\n",
        "    pairs = list(wordCounts.items())\n",
        "    items = [[x,y] for (y,x) in pairs]\n",
        "    items.sort()\n",
        "    items = {x:y for [y,x] in items}\n",
        "    return items"
      ],
      "metadata": {
        "id": "vCrGksMkfi1H"
      },
      "execution_count": 63,
      "outputs": []
    },
    {
      "cell_type": "code",
      "source": [
        "t=text_static()\n",
        "fn=\"/content/I_have_a_dream.txt\"\n",
        "wordCounts = t.wordCount(fn)\n",
        "wordCounts = t.arrange_pairs(wordCounts)"
      ],
      "metadata": {
        "id": "q71wkChgm7gK"
      },
      "execution_count": 64,
      "outputs": []
    },
    {
      "cell_type": "code",
      "source": [
        "wordCounts"
      ],
      "metadata": {
        "colab": {
          "base_uri": "https://localhost:8080/"
        },
        "id": "A5HqJ6p8NAfY",
        "outputId": "30e35ea3-4ea7-4b99-d8cd-81f06149346d"
      },
      "execution_count": 66,
      "outputs": [
        {
          "output_type": "execute_result",
          "data": {
            "text/plain": [
              "{'am': 1,\n",
              " 'as': 1,\n",
              " 'demonstration': 1,\n",
              " 'down': 1,\n",
              " 'for': 1,\n",
              " 'freedom': 1,\n",
              " 'go': 1,\n",
              " 'greatest': 1,\n",
              " 'happy': 1,\n",
              " 'i': 1,\n",
              " 'join': 1,\n",
              " 'nation': 1,\n",
              " 'of': 1,\n",
              " 'our': 1,\n",
              " 'to': 1,\n",
              " 'today': 1,\n",
              " 'what': 1,\n",
              " 'will': 1,\n",
              " 'with': 1,\n",
              " 'you': 1,\n",
              " 'history': 2,\n",
              " 'the': 2,\n",
              " 'in': 3}"
            ]
          },
          "metadata": {},
          "execution_count": 66
        }
      ]
    }
  ],
  "metadata": {
    "colab": {
      "collapsed_sections": [],
      "provenance": [],
      "include_colab_link": true
    },
    "kernelspec": {
      "display_name": "Python 3",
      "name": "python3"
    }
  },
  "nbformat": 4,
  "nbformat_minor": 0
}