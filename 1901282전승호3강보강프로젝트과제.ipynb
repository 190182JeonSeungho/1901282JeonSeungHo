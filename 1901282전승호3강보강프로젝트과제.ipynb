{
  "cells": [
    {
      "cell_type": "markdown",
      "metadata": {
        "id": "view-in-github",
        "colab_type": "text"
      },
      "source": [
        "<a href=\"https://colab.research.google.com/github/190182JeonSeungho/1901282JeonSeungHo/blob/main/1901282%EC%A0%84%EC%8A%B9%ED%98%B83%EA%B0%95%EB%B3%B4%EA%B0%95%ED%94%84%EB%A1%9C%EC%A0%9D%ED%8A%B8%EA%B3%BC%EC%A0%9C.ipynb\" target=\"_parent\"><img src=\"https://colab.research.google.com/assets/colab-badge.svg\" alt=\"Open In Colab\"/></a>"
      ]
    },
    {
      "cell_type": "code",
      "source": [
        "class text_static:\n",
        "  def processLine(self, line, wordcounts):\n",
        "    line = self.replacePunctuations(line)\n",
        "    words = line.split()\n",
        "    for word in words:\n",
        "      if word in wordCounts:\n",
        "        wordCounts[word] += 1\n",
        "      else:\n",
        "          wordCounts[word] = 1\n",
        "  def replacePunctuations(self, line):\n",
        "    for ch in line:\n",
        "      if ch in \".,;\":\n",
        "        line = line.replace(ch,\" \")\n",
        "\n",
        "        return line\n",
        "  def wordCount(self, filename):\n",
        "    f = open(\"I_have_a_dream.txt\",\"r\")\n",
        "    lines = f.readlines()\n",
        "    return wordCounts\n",
        "  def arrange_pairs(self, wordcounts):\n",
        "    pairs = lisr(wordCounts.items())\n",
        "    items = [[x,y] for (y,x) in pairs]\n",
        "    items.sort()\n",
        "    items = {x:y for [y,x] in items}\n",
        "    return items"
      ],
      "metadata": {
        "id": "vCrGksMkfi1H"
      },
      "execution_count": 1,
      "outputs": []
    },
    {
      "cell_type": "code",
      "source": [
        "T=text_static()\n",
        "\n",
        "fn=\"I_have_a_dream.txt\"\n",
        "wordCounts = T.wordCount(fn)\n",
        "wordCounts = T.arrange_pairs(wordCounts)"
      ],
      "metadata": {
        "id": "q71wkChgm7gK"
      },
      "execution_count": null,
      "outputs": []
    }
  ],
  "metadata": {
    "colab": {
      "collapsed_sections": [],
      "provenance": [],
      "include_colab_link": true
    },
    "kernelspec": {
      "display_name": "Python 3",
      "name": "python3"
    }
  },
  "nbformat": 4,
  "nbformat_minor": 0
}