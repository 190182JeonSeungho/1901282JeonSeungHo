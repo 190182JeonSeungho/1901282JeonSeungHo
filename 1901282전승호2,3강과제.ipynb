{
  "nbformat": 4,
  "nbformat_minor": 0,
  "metadata": {
    "colab": {
      "provenance": [],
      "authorship_tag": "ABX9TyPIodb+W738dJP/GtWaniRy",
      "include_colab_link": true
    },
    "kernelspec": {
      "name": "python3",
      "display_name": "Python 3"
    },
    "language_info": {
      "name": "python"
    }
  },
  "cells": [
    {
      "cell_type": "markdown",
      "metadata": {
        "id": "view-in-github",
        "colab_type": "text"
      },
      "source": [
        "<a href=\"https://colab.research.google.com/github/190182JeonSeungho/1901282JeonSeungHo/blob/main/1901282%EC%A0%84%EC%8A%B9%ED%98%B82%2C3%EA%B0%95%EA%B3%BC%EC%A0%9C.ipynb\" target=\"_parent\"><img src=\"https://colab.research.google.com/assets/colab-badge.svg\" alt=\"Open In Colab\"/></a>"
      ]
    },
    {
      "cell_type": "code",
      "execution_count": 1,
      "metadata": {
        "id": "mnLmop0hGqOP"
      },
      "outputs": [],
      "source": [
        "import numpy as no"
      ]
    },
    {
      "cell_type": "code",
      "source": [
        "no.__version__"
      ],
      "metadata": {
        "colab": {
          "base_uri": "https://localhost:8080/",
          "height": 35
        },
        "id": "ZvSVn3siIvfZ",
        "outputId": "e6d16a46-5e59-4789-ffa1-50052ab3ef36"
      },
      "execution_count": 10,
      "outputs": [
        {
          "output_type": "execute_result",
          "data": {
            "text/plain": [
              "'1.21.6'"
            ],
            "application/vnd.google.colaboratory.intrinsic+json": {
              "type": "string"
            }
          },
          "metadata": {},
          "execution_count": 10
        }
      ]
    },
    {
      "cell_type": "code",
      "source": [
        "a = no.array((1,2,3), dtype = float)\n",
        "print(a)"
      ],
      "metadata": {
        "colab": {
          "base_uri": "https://localhost:8080/"
        },
        "id": "p36jNT6bIhzy",
        "outputId": "dad1808d-b28f-412a-e930-d2bc35c8e558"
      },
      "execution_count": 11,
      "outputs": [
        {
          "output_type": "stream",
          "name": "stdout",
          "text": [
            "[1. 2. 3.]\n"
          ]
        }
      ]
    },
    {
      "cell_type": "code",
      "source": [
        "a = no.array([(1,2,3), (4,5,6), dtype= float])\n",
        "print(a)"
      ],
      "metadata": {
        "id": "Y1Pnejp4InUg"
      },
      "execution_count": null,
      "outputs": []
    },
    {
      "cell_type": "code",
      "source": [
        "a = no.array([[[1,2,3], [3,4,5]],[[3,2,1], [4,5,6]]], dtype =float)\n",
        "print(a)"
      ],
      "metadata": {
        "id": "kHxNnT2LJF6i"
      },
      "execution_count": null,
      "outputs": []
    },
    {
      "cell_type": "code",
      "source": [
        "a = no.zeros((3))\n",
        "print(a)"
      ],
      "metadata": {
        "id": "t_Qwfbl4J_VS"
      },
      "execution_count": null,
      "outputs": []
    },
    {
      "cell_type": "code",
      "source": [
        "a = no.zeros((3,4))\n",
        "print(a)"
      ],
      "metadata": {
        "id": "5LJ8gzJTKFyh"
      },
      "execution_count": null,
      "outputs": []
    },
    {
      "cell_type": "code",
      "source": [
        "a = no.zeros((2,3,4))\n",
        "print(a)"
      ],
      "metadata": {
        "id": "_oNzp0aNKIJR"
      },
      "execution_count": null,
      "outputs": []
    },
    {
      "cell_type": "code",
      "source": [
        "a = no.full((3,4), -1,dtype=float)\n",
        "print(a)"
      ],
      "metadata": {
        "id": "AmV5XKPrKMr4"
      },
      "execution_count": null,
      "outputs": []
    },
    {
      "cell_type": "code",
      "source": [
        "a = no.full((3,4), -1)\n",
        "print(a)"
      ],
      "metadata": {
        "id": "bfwWbnI7KXao"
      },
      "execution_count": null,
      "outputs": []
    },
    {
      "cell_type": "code",
      "source": [
        "a = no.full((2,3,4), -1, dtype = float)\n",
        "print(a)"
      ],
      "metadata": {
        "id": "eitUWWUoKeaI"
      },
      "execution_count": null,
      "outputs": []
    },
    {
      "cell_type": "code",
      "source": [
        "a = no.eye(3,dtype=float)\n",
        "print(a)"
      ],
      "metadata": {
        "id": "8k5O3jAmKqrp"
      },
      "execution_count": null,
      "outputs": []
    },
    {
      "cell_type": "code",
      "source": [
        "a = no.array([(1,2,3), (4,5,6)], dtype = float)\n",
        "b = no.ones_like(a)\n",
        "print(b)"
      ],
      "metadata": {
        "id": "fpJRG_HVK2HJ"
      },
      "execution_count": null,
      "outputs": []
    },
    {
      "cell_type": "code",
      "source": [
        "a = no.array([(1,2,3), (4,5,6)], dtype = float)\n",
        "b = no.zeros_like(a)\n",
        "print(b)"
      ],
      "metadata": {
        "id": "TFRJ41dEK6lR"
      },
      "execution_count": null,
      "outputs": []
    },
    {
      "cell_type": "code",
      "source": [
        "a = no.array([(1,2,3), (4,5,6)], dtype = float)\n",
        "b = no.full_like(a)\n",
        "print(b)"
      ],
      "metadata": {
        "id": "GLXp6dTaLFbS"
      },
      "execution_count": null,
      "outputs": []
    },
    {
      "cell_type": "code",
      "source": [
        "arr=no.array([(1,2,3), (4,5,6)], dtype = float)\n",
        "print(a)"
      ],
      "metadata": {
        "id": "59DrMvlBLPxJ"
      },
      "execution_count": null,
      "outputs": []
    },
    {
      "cell_type": "code",
      "source": [
        "arr.shape"
      ],
      "metadata": {
        "id": "zjdLc7CULcFx"
      },
      "execution_count": null,
      "outputs": []
    },
    {
      "cell_type": "code",
      "source": [
        "len(arr)"
      ],
      "metadata": {
        "id": "D5GcfUd1Lffi"
      },
      "execution_count": null,
      "outputs": []
    },
    {
      "cell_type": "code",
      "source": [
        "arr.ndim"
      ],
      "metadata": {
        "id": "CXRa6CIELhxx"
      },
      "execution_count": null,
      "outputs": []
    },
    {
      "cell_type": "code",
      "source": [
        "arr.dtype"
      ],
      "metadata": {
        "id": "OE6lZ6kHLkYh"
      },
      "execution_count": null,
      "outputs": []
    },
    {
      "cell_type": "code",
      "source": [
        "a = no.linspace(0, 1, 5)\n",
        "print(a)"
      ],
      "metadata": {
        "id": "F5Pz2zoPLrII"
      },
      "execution_count": null,
      "outputs": []
    },
    {
      "cell_type": "code",
      "source": [
        "a = no.arange(0, 10, 2, no.float)\n",
        "print(a)"
      ],
      "metadata": {
        "id": "TRA7HwZYL07l"
      },
      "execution_count": null,
      "outputs": []
    },
    {
      "cell_type": "code",
      "source": [
        "a = no.logspace(0, 10, 4, no.float)\n",
        "print(a)"
      ],
      "metadata": {
        "id": "1cBEhYrjL7LB"
      },
      "execution_count": null,
      "outputs": []
    },
    {
      "cell_type": "code",
      "source": [
        "a= no.arange(1, 10),reshape(3, 3)\n",
        "print(a)"
      ],
      "metadata": {
        "id": "AJqbeybxMGEw"
      },
      "execution_count": null,
      "outputs": []
    },
    {
      "cell_type": "code",
      "source": [
        "c=no.add(a,b)\n",
        "print(c)"
      ],
      "metadata": {
        "id": "FBT9Pjc-MW6K"
      },
      "execution_count": null,
      "outputs": []
    },
    {
      "cell_type": "code",
      "source": [
        "d=no.subtract(a,b)\n",
        "print(d)"
      ],
      "metadata": {
        "id": "y1uXSDnWOjGZ"
      },
      "execution_count": null,
      "outputs": []
    },
    {
      "cell_type": "code",
      "source": [
        "from numpy.core.fromnumeric import reshape\n",
        "b = no.arange(9, 0, -1),reshape(3, 3)\n",
        "print(b)"
      ],
      "metadata": {
        "id": "62PSnwunOqwh"
      },
      "execution_count": null,
      "outputs": []
    },
    {
      "cell_type": "code",
      "source": [
        "c=no.multiply(a,b)\n",
        "print(c)"
      ],
      "metadata": {
        "id": "PmJF60WFPEgh"
      },
      "execution_count": null,
      "outputs": []
    },
    {
      "cell_type": "code",
      "source": [
        "d=no.divide(a,b)\n",
        "print(d)"
      ],
      "metadata": {
        "id": "wWWljL2jPR2w"
      },
      "execution_count": null,
      "outputs": []
    },
    {
      "cell_type": "code",
      "source": [
        "c=no.dot(a,b)\n",
        "print(c)"
      ],
      "metadata": {
        "id": "Skrrgms7PcNY"
      },
      "execution_count": null,
      "outputs": []
    },
    {
      "cell_type": "code",
      "source": [
        "plt.plot([1,2,3], [10,20,-10])\n",
        "plt.shot()"
      ],
      "metadata": {
        "id": "tccKScoAPgdJ"
      },
      "execution_count": null,
      "outputs": []
    },
    {
      "cell_type": "code",
      "source": [
        "plt.plot([10,20,-10])\n",
        "plt.show()"
      ],
      "metadata": {
        "id": "yu2rcgA-P2HB"
      },
      "execution_count": null,
      "outputs": []
    },
    {
      "cell_type": "code",
      "source": [
        "plt.plot([4,6,10,11], [10,20,25,30])\n",
        "plt.xlabel('x-axis')\n",
        "plt.tlabel('y-axis')\n",
        "plt.title('Data')\n",
        "plt.show()"
      ],
      "metadata": {
        "id": "lNIFQ_eNQHvK"
      },
      "execution_count": null,
      "outputs": []
    },
    {
      "cell_type": "code",
      "source": [
        "x=no.linspace(0.2*no.pi,100)"
      ],
      "metadata": {
        "id": "lL18ne-XQknQ"
      },
      "execution_count": 24,
      "outputs": []
    },
    {
      "cell_type": "code",
      "source": [
        "y=no.sin(x)"
      ],
      "metadata": {
        "id": "brZ6PX7wQ0_Q"
      },
      "execution_count": 26,
      "outputs": []
    },
    {
      "cell_type": "code",
      "source": [
        "plt.plot(x,y)\n",
        "plt.xlabel('x-axis')\n",
        "plt.tlabel('y-axis')\n",
        "plt.title('Sin(x)')\n",
        "plt.show()"
      ],
      "metadata": {
        "id": "M-McFIrBQ5Q6"
      },
      "execution_count": null,
      "outputs": []
    },
    {
      "cell_type": "code",
      "source": [
        "x=no.linspace(0.2*no.pi,100)"
      ],
      "metadata": {
        "id": "xopiZD1KQ_8g"
      },
      "execution_count": null,
      "outputs": []
    },
    {
      "cell_type": "code",
      "source": [
        "y=no.sin(x)+no.cos(x)+10"
      ],
      "metadata": {
        "id": "lgnr0dbjRHOa"
      },
      "execution_count": null,
      "outputs": []
    },
    {
      "cell_type": "code",
      "source": [
        "plt.plot(x,y)\n",
        "plt.xlabel('x-axis')\n",
        "plt.tlabel('y-axis')\n",
        "plt.title('Sin(x)+cos(x)+10')\n",
        "plt.show()"
      ],
      "metadata": {
        "id": "A4tTodDfRPbo"
      },
      "execution_count": null,
      "outputs": []
    },
    {
      "cell_type": "code",
      "source": [
        "x=no.linspace(0.2*no.pi,100)"
      ],
      "metadata": {
        "id": "UpHBoKNeRerZ"
      },
      "execution_count": null,
      "outputs": []
    },
    {
      "cell_type": "code",
      "source": [
        "y1=no.sin(x)\n",
        "y2=no.sin(x)+np.cos(x)"
      ],
      "metadata": {
        "id": "mGc-OcuPRlKz"
      },
      "execution_count": null,
      "outputs": []
    },
    {
      "cell_type": "code",
      "source": [
        "plt.plot(x,y1,x,y2)\n",
        "plt.xlabel('x-axis')\n",
        "plt.tlabel('y-axis')\n",
        "plt.title('Two functions')\n",
        "plt.legend(['sin(x)', 'sin(x)+cos(x)'])\n",
        "plt.show()"
      ],
      "metadata": {
        "id": "r45VO8O_Rv2w"
      },
      "execution_count": null,
      "outputs": []
    },
    {
      "cell_type": "code",
      "source": [
        "x=no.linspace(0.2*no.pi,100)\n",
        "\n",
        "y1=no.sin(x)\n",
        "y2=no.sin(x)+np.cos(x)\n",
        "\n",
        "plt.plot(x,y1,x,y2)\n",
        "\n",
        "plt.xticks([0, no.pi, 2* np.pi])\n",
        "plt.yticks([-1, 0, +1])\n",
        "\n",
        "plt.xlabel('x-axis')\n",
        "plt.tlabel('y-axis')\n",
        "plt.title('Two functions')\n",
        "plt.legend(['sin(x)', 'sin(x)+cos(x)'])\n",
        "\n",
        "plt.show()"
      ],
      "metadata": {
        "id": "FpJtrim1SSwi"
      },
      "execution_count": null,
      "outputs": []
    },
    {
      "cell_type": "code",
      "source": [
        "x=no.linspace(0.2*no.pi,100)\n",
        "\n",
        "y1=no.sin(x)\n",
        "y2=no.sin(x)+np.cos(x)\n",
        "\n",
        "plt.plot(x,y1, 'ro--',x,y2,'ks-')\n",
        "\n",
        "plt.xticks([0, no.pi, 2* np.pi])\n",
        "plt.yticks([-1, 0, +1])\n",
        "\n",
        "plt.xlabel('x-axis')\n",
        "plt.tlabel('y-axis')\n",
        "plt.title('Two functions')\n",
        "plt.legend(['sin(x)', 'sin(x)+cos(x)'])\n",
        "\n",
        "plt.show()"
      ],
      "metadata": {
        "id": "iS8OQ-21WI6q"
      },
      "execution_count": null,
      "outputs": []
    },
    {
      "cell_type": "code",
      "source": [
        "x=no.linspace(1,6,6)\n",
        "y=no.array([10,8,4,9,5,2])\n",
        "\n",
        "plt.bar(x,y)\n",
        "plt.xlabel('x-axis')\n",
        "plt.tlabel('y-axis')\n",
        "plt.title('Bar Example')\n",
        "plt.show()"
      ],
      "metadata": {
        "id": "O3oWKvCKWhny"
      },
      "execution_count": null,
      "outputs": []
    },
    {
      "cell_type": "code",
      "source": [
        "def func(n):\n",
        "  lv=n+1\n",
        "  print(lv)\n",
        "\n",
        "func(12)"
      ],
      "metadata": {
        "colab": {
          "base_uri": "https://localhost:8080/"
        },
        "id": "yMPiBVQ2XBlR",
        "outputId": "c30335fb-21c9-4a47-d909-cf29547cd718"
      },
      "execution_count": 31,
      "outputs": [
        {
          "output_type": "stream",
          "name": "stdout",
          "text": [
            "13\n"
          ]
        }
      ]
    },
    {
      "cell_type": "code",
      "source": [
        "n=10\n",
        "\n",
        "def func2():\n",
        "  lv=n+1\n",
        "  print(lv)\n",
        "\n",
        "func2()"
      ],
      "metadata": {
        "colab": {
          "base_uri": "https://localhost:8080/"
        },
        "id": "6oqYDtKXXo1Z",
        "outputId": "8c121564-dc45-4fb9-fbbe-059250cc7747"
      },
      "execution_count": 32,
      "outputs": [
        {
          "output_type": "stream",
          "name": "stdout",
          "text": [
            "11\n"
          ]
        }
      ]
    },
    {
      "cell_type": "code",
      "source": [
        "n=10\n",
        "\n",
        "def func2():\n",
        "  n=0\n",
        "  lv=n+1\n",
        "  print(lv)\n",
        "\n",
        "func2()"
      ],
      "metadata": {
        "colab": {
          "base_uri": "https://localhost:8080/"
        },
        "id": "rhiRvIRQX1aR",
        "outputId": "c3a7d783-7681-421d-ea09-ed455b01f73b"
      },
      "execution_count": 33,
      "outputs": [
        {
          "output_type": "stream",
          "name": "stdout",
          "text": [
            "1\n"
          ]
        }
      ]
    },
    {
      "cell_type": "code",
      "source": [
        "print(n)"
      ],
      "metadata": {
        "colab": {
          "base_uri": "https://localhost:8080/"
        },
        "id": "P5_0fkDWYHlZ",
        "outputId": "5e276b44-cd54-41dd-ecaa-2a86767deb88"
      },
      "execution_count": 34,
      "outputs": [
        {
          "output_type": "stream",
          "name": "stdout",
          "text": [
            "10\n"
          ]
        }
      ]
    },
    {
      "cell_type": "code",
      "source": [
        "n=10\n",
        "\n",
        "def func2():\n",
        "  global n\n",
        "  n=0\n",
        "  lv=n+1\n",
        "  print(lv)\n",
        "\n",
        "func2()"
      ],
      "metadata": {
        "colab": {
          "base_uri": "https://localhost:8080/"
        },
        "id": "Z2-ietQQYLdR",
        "outputId": "79faf89d-14c6-41f6-c1dc-196c98c437cd"
      },
      "execution_count": 35,
      "outputs": [
        {
          "output_type": "stream",
          "name": "stdout",
          "text": [
            "1\n"
          ]
        }
      ]
    },
    {
      "cell_type": "code",
      "source": [
        "print(n)"
      ],
      "metadata": {
        "colab": {
          "base_uri": "https://localhost:8080/"
        },
        "id": "aZRPveFBYlh6",
        "outputId": "bfa099d8-c941-4766-9f1d-ed4d2521c4c8"
      },
      "execution_count": 36,
      "outputs": [
        {
          "output_type": "stream",
          "name": "stdout",
          "text": [
            "0\n"
          ]
        }
      ]
    },
    {
      "cell_type": "code",
      "source": [
        "fa_age=39\n",
        "def up_fa_age():\n",
        "  global fa_age\n",
        "  fa_age += 1\n",
        "\n",
        "def get_fa_age():\n",
        "  return fa_age\n",
        "\n",
        "print(\"2019년\")\n",
        "print(\"아빠:\", get_fa_age())\n",
        "print(\"2020년\")\n",
        "up_fa_age()\n",
        "print(\"아빠:\", get_fa_age())"
      ],
      "metadata": {
        "colab": {
          "base_uri": "https://localhost:8080/"
        },
        "id": "MNYuR21AYn7h",
        "outputId": "515d2ac9-3b73-4536-e08c-a849b0e231ef"
      },
      "execution_count": 40,
      "outputs": [
        {
          "output_type": "stream",
          "name": "stdout",
          "text": [
            "2019년\n",
            "아빠: 39\n",
            "2020년\n",
            "아빠: 40\n"
          ]
        }
      ]
    },
    {
      "cell_type": "code",
      "source": [
        "class Ageinfo:\n",
        "  def up_age(self):\n",
        "    self.age +=1\n",
        "  def get_age(self):\n",
        "    return self.age"
      ],
      "metadata": {
        "id": "H2i8SZKDZ63S"
      },
      "execution_count": 41,
      "outputs": []
    },
    {
      "cell_type": "code",
      "source": [
        "fa = Ageinfo()\n",
        "fa.age=39\n",
        "\n",
        "print(\"아빠의 나이: \", fa.get_age())\n",
        "\n",
        "print(\"1년뒤...\")\n",
        "fa.up_age()\n",
        "print(\"아빠의 나이: \", fa.get_age())"
      ],
      "metadata": {
        "colab": {
          "base_uri": "https://localhost:8080/"
        },
        "id": "PW093xp1aXQU",
        "outputId": "8e8ea226-021b-477c-e372-8fb9f11eaa51"
      },
      "execution_count": 42,
      "outputs": [
        {
          "output_type": "stream",
          "name": "stdout",
          "text": [
            "아빠의 나이:  39\n",
            "1년뒤...\n",
            "아빠의 나이:  40\n"
          ]
        }
      ]
    },
    {
      "cell_type": "code",
      "source": [
        "class Ageinfo:\n",
        "  def up_age(self):\n",
        "    self.age +=1\n",
        "  def get_age(self):\n",
        "    return self.age"
      ],
      "metadata": {
        "id": "3JT2kDS1a1XR"
      },
      "execution_count": 43,
      "outputs": []
    },
    {
      "cell_type": "code",
      "source": [
        "fa = Ageinfo()\n",
        "mo = Ageinfo()\n",
        "me = Ageinfo()\n",
        "\n",
        "fa.age=50\n",
        "mo.age=49\n",
        "me.age=30\n",
        "\n",
        "print(\"아빠의 나이: \", fa.get_age())\n",
        "print(\"엄마의 나이: \", mo.get_age())\n",
        "print(\"누나의 나이: \", me.get_age())\n",
        "\n",
        "print(\"1 년뒤...\")\n",
        "fa.up_age()\n",
        "mo.up_age()\n",
        "me.up_age()\n",
        "print(\"아빠의 나이: \", fa.get_age())\n",
        "print(\"엄마의 나이: \", mo.get_age())\n",
        "print(\"누나의 나이: \", me.get_age())"
      ],
      "metadata": {
        "colab": {
          "base_uri": "https://localhost:8080/"
        },
        "id": "knIdW0gybMWy",
        "outputId": "7f0bae2e-2147-426b-b71f-9da5232fbfd6"
      },
      "execution_count": 46,
      "outputs": [
        {
          "output_type": "stream",
          "name": "stdout",
          "text": [
            "아빠의 나이:  50\n",
            "엄마의 나이:  49\n",
            "누나의 나이:  30\n",
            "1 년뒤...\n",
            "아빠의 나이:  51\n",
            "엄마의 나이:  50\n",
            "누나의 나이:  31\n"
          ]
        }
      ]
    },
    {
      "cell_type": "code",
      "source": [
        "import math\n",
        "import matplotlib.pyplot as plt\n",
        "class sin_grapy:\n",
        "  def generate_x_y(self):\n",
        "    self.x=[]\n",
        "    self.y=[]\n",
        "    self.dx=(self.end-self.st)/(self.n-1)\n",
        "    for i in range(self.n):\n",
        "      x_=self.st + self.dx+i\n",
        "      self.x.append(x_)\n",
        "      self.y.append(math.sin(x_))\n",
        "    def plot(self):\n",
        "      plt.plot(self.x,self.y)\n",
        "      plt.show()"
      ],
      "metadata": {
        "id": "9meBQKHicnij"
      },
      "execution_count": 47,
      "outputs": []
    },
    {
      "cell_type": "code",
      "source": [
        "g1=sin_graph()\n",
        "g1.st=0\n",
        "g1.end=2*math.pi\n",
        "g1.n=10\n",
        "\n",
        "g1.generate_x_y()\n",
        "g1.plot()"
      ],
      "metadata": {
        "id": "L91BPcPkeDpq"
      },
      "execution_count": null,
      "outputs": []
    },
    {
      "cell_type": "code",
      "source": [
        "class sin_graph:\n",
        "  def setting(self, st, ed, n):\n",
        "    self.st=st\n",
        "    self.ed=ed\n",
        "    self.n=n\n",
        "  def generate_x_y(self):\n",
        "    self.x=[]\n",
        "    self.y=[]\n",
        "    self.dx=(self.ed-self.st)/(self.n-1)\n",
        "    for i in range(self.n):\n",
        "      x_=self.st + self.ds+i\n",
        "      self.x.append(x_)\n",
        "      self.y.appenf(math.sin(x_))\n",
        "  def plot(self):\n",
        "    plt.plot(self.x,self.y)\n",
        "    plt.show()"
      ],
      "metadata": {
        "id": "4H0a4RVieeHS"
      },
      "execution_count": 48,
      "outputs": []
    },
    {
      "cell_type": "code",
      "source": [
        "g1=sin_graph()\n",
        "g1.setting(0, 2*math.pi, 100)\n",
        "g1.generate_x_y()\n",
        "g1.plot()"
      ],
      "metadata": {
        "id": "TBcXeAYifvui"
      },
      "execution_count": null,
      "outputs": []
    },
    {
      "cell_type": "code",
      "source": [
        "g2=sin_graph()\n",
        "g2.setting(0, 4*math.pi, 100)\n",
        "g2.generate_x_y()\n",
        "g2.plot()"
      ],
      "metadata": {
        "id": "FxQASIKZgBAC"
      },
      "execution_count": null,
      "outputs": []
    },
    {
      "cell_type": "code",
      "source": [
        "class Const:\n",
        "  def __init__(self):\n",
        "    print(\"new~\")\n",
        "o1 = Const()\n",
        "o2 = Const()"
      ],
      "metadata": {
        "colab": {
          "base_uri": "https://localhost:8080/"
        },
        "id": "RuP8oBQGgUfZ",
        "outputId": "a8c2530b-a2ab-435c-d90e-696113f2c501"
      },
      "execution_count": 49,
      "outputs": [
        {
          "output_type": "stream",
          "name": "stdout",
          "text": [
            "new~\n",
            "new~\n"
          ]
        }
      ]
    },
    {
      "cell_type": "code",
      "source": [
        "class Const:\n",
        "  def __init__(self,n1,n2):\n",
        "    self.n1 = n1\n",
        "    self.n2 = n2\n",
        "  def show_data(self):\n",
        "    print(self.n1, self.n2)\n",
        "\n",
        "o1 = Const(1,2)\n",
        "o2 = Const(3,4)"
      ],
      "metadata": {
        "id": "HU3YCJ9Bgs47"
      },
      "execution_count": 50,
      "outputs": []
    }
  ]
}